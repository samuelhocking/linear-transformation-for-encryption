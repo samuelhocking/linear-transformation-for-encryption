{
 "cells": [
  {
   "cell_type": "code",
   "execution_count": 1,
   "metadata": {},
   "outputs": [],
   "source": [
    "import numpy as np\n",
    "import math\n",
    "import random"
   ]
  },
  {
   "cell_type": "code",
   "execution_count": 2,
   "metadata": {},
   "outputs": [],
   "source": [
    "def stringToNums(string, invDict):\n",
    "    parsed = [string.upper()[i] for i in range(len(string.upper()))]\n",
    "    nums = [invDict[i] for i in parsed]\n",
    "    return nums\n",
    "\n",
    "def encode(x,binDig):\n",
    "    encoded = []\n",
    "    for i in range(binDig,0,-1):\n",
    "        if x < 2**(i-1):\n",
    "            encoded.append(0)\n",
    "            continue\n",
    "        else:\n",
    "            encoded.append(x // (2**(i-1)))\n",
    "            x = x % (2**(i-1))\n",
    "    encoded = np.array(encoded)\n",
    "    return encoded\n",
    "\n",
    "def encodeLoop(x, binDig):\n",
    "    for i in range(len(x)):\n",
    "        if i == 0:\n",
    "            codedArray = np.array(encode(x[i],binDig))\n",
    "        else:\n",
    "            codedArray = np.vstack([codedArray,encode(x[i],binDig)])\n",
    "    return codedArray\n",
    "\n",
    "def decode(x):\n",
    "    pwrs = np.array([2**(j-1) for j in range(len(x[0]),0,-1)])\n",
    "    for i in range(len(x)):\n",
    "        if i == 0:\n",
    "            decoded = np.array([pwrs @ x[i]])\n",
    "        else:\n",
    "            decoded = np.hstack([decoded, np.array(pwrs @ x[i])])\n",
    "    decoded = list(decoded)\n",
    "    return decoded\n",
    "\n",
    "def decodeToString(x, dict):\n",
    "    chars = [dict[i] for i in x]\n",
    "    frankenstring = ''.join(chars)\n",
    "    return frankenstring\n",
    "\n",
    "def randOrder(x):\n",
    "    a = list(range(1,x+1))\n",
    "    rs = []\n",
    "    for i in range(len(a)):\n",
    "        r = random.choice(a)\n",
    "        a.remove(r)\n",
    "        rs.append(r)\n",
    "    return rs\n",
    "\n",
    "def scrambleT(length):\n",
    "    ro = randOrder(length)\n",
    "    for i in range(len(ro)):\n",
    "        if i == 0:\n",
    "            T = np.array([1 if a == ro[i]-1 else 0 for a in range(len(ro))])\n",
    "        else:\n",
    "            T = np.vstack([T, np.array([1 if a == ro[i]-1 else 0 for a in range(len(ro))])])\n",
    "    return T\n",
    "\n",
    "def scrambleChain(string, dict, invDict, keyMatrix, binDigits=6):\n",
    "    K = keyMatrix\n",
    "    scrambled = decodeToString(decode((K @ encodeLoop(stringToNums(string, invDict), binDigits).T).T),dict)\n",
    "    return scrambled\n",
    "\n",
    "def unscrambleChain(string, dict, invDict, keyMatrix, binDigits=6):\n",
    "    K = keyMatrix\n",
    "    Kinv = np.linalg.inv(keyMatrix)\n",
    "    unscrambled = decodeToString(decode((Kinv @ encodeLoop(stringToNums(string, invDict),binDigits).T).T),dict)\n",
    "    return unscrambled"
   ]
  },
  {
   "cell_type": "code",
   "execution_count": 3,
   "metadata": {},
   "outputs": [],
   "source": [
    "ascii_dict = {\n",
    "    0: '_',\n",
    "    1: ' ',\n",
    "    2: '!',\n",
    "    3: '\"',\n",
    "    4: '#',\n",
    "    5: '$',\n",
    "    6: '%',\n",
    "    7: '&',\n",
    "    8: '’',\n",
    "    9: '(',\n",
    "    10: ')',\n",
    "    11: '*',\n",
    "    12: '+',\n",
    "    13: ',',\n",
    "    14: '-',\n",
    "    15: '.',\n",
    "    16: '/',\n",
    "    17: '0',\n",
    "    18: '1',\n",
    "    19: '2',\n",
    "    20: '3',\n",
    "    21: '4',\n",
    "    22: '5',\n",
    "    23: '6',\n",
    "    24: '7',\n",
    "    25: '8',\n",
    "    26: '9',\n",
    "    27: ':',\n",
    "    28: ';',\n",
    "    29: '<',\n",
    "    30: '=',\n",
    "    31: '>',\n",
    "    32: '?',\n",
    "    33: '@',\n",
    "    34: 'A',\n",
    "    35: 'B',\n",
    "    36: 'C',\n",
    "    37: 'D',\n",
    "    38: 'E',\n",
    "    39: 'F',\n",
    "    40: 'G',\n",
    "    41: 'H',\n",
    "    42: 'I',\n",
    "    43: 'J',\n",
    "    44: 'K',\n",
    "    45: 'L',\n",
    "    46: 'M',\n",
    "    47: 'N',\n",
    "    48: 'O',\n",
    "    49: 'P',\n",
    "    50: 'Q',\n",
    "    51: 'R',\n",
    "    52: 'S',\n",
    "    53: 'T',\n",
    "    54: 'U',\n",
    "    55: 'V',\n",
    "    56: 'W',\n",
    "    57: 'X',\n",
    "    58: 'Y',\n",
    "    59: 'Z',\n",
    "    60: '[',\n",
    "    61: '\\\\',\n",
    "    62: ']',\n",
    "    63: '^',\n",
    "    }\n",
    "\n",
    "ascii_inv_dict = {j:i for (i,j) in ascii_dict.items()}"
   ]
  },
  {
   "cell_type": "code",
   "execution_count": 4,
   "metadata": {},
   "outputs": [],
   "source": [
    "string = 'My name is Sam'"
   ]
  },
  {
   "cell_type": "code",
   "execution_count": 5,
   "metadata": {},
   "outputs": [
    {
     "data": {
      "text/plain": [
       "array([[0, 0, 0, 1, 0, 0],\n",
       "       [0, 1, 0, 0, 0, 0],\n",
       "       [0, 0, 0, 0, 0, 1],\n",
       "       [0, 0, 0, 0, 1, 0],\n",
       "       [0, 0, 1, 0, 0, 0],\n",
       "       [1, 0, 0, 0, 0, 0]])"
      ]
     },
     "execution_count": 5,
     "metadata": {},
     "output_type": "execute_result"
    }
   ],
   "source": [
    "T = scrambleT(6)\n",
    "#T = np.eye(6)\n",
    "#T = np.array([[0, 0, 0, 0, 0, 1],\n",
    "#              [0, 0, 0, 0, 1, 0],\n",
    "#              [0, 0, 0, 1, 0, 0],\n",
    "#              [0, 0, 1, 0, 0, 0],\n",
    "#              [0, 1, 0, 0, 0, 0],\n",
    "#              [1, 0, 0, 0, 0, 0]])\n",
    "T"
   ]
  },
  {
   "cell_type": "code",
   "execution_count": 6,
   "metadata": {},
   "outputs": [
    {
     "data": {
      "text/plain": [
       "'#/ !’?'"
      ]
     },
     "execution_count": 6,
     "metadata": {},
     "output_type": "execute_result"
    }
   ],
   "source": [
    "Tcoded = decodeToString(decode(T), ascii_dict)\n",
    "Tcoded"
   ]
  },
  {
   "cell_type": "code",
   "execution_count": 7,
   "metadata": {},
   "outputs": [
    {
     "data": {
      "text/plain": [
       "array([[0, 0, 0, 1, 0, 0],\n",
       "       [0, 1, 0, 0, 0, 0],\n",
       "       [0, 0, 0, 0, 0, 1],\n",
       "       [0, 0, 0, 0, 1, 0],\n",
       "       [0, 0, 1, 0, 0, 0],\n",
       "       [1, 0, 0, 0, 0, 0]])"
      ]
     },
     "execution_count": 7,
     "metadata": {},
     "output_type": "execute_result"
    }
   ],
   "source": [
    "Tdecoded = encodeLoop(stringToNums(Tcoded, ascii_inv_dict), 6)\n",
    "Tdecoded"
   ]
  },
  {
   "cell_type": "code",
   "execution_count": 8,
   "metadata": {},
   "outputs": [
    {
     "data": {
      "text/plain": [
       "'F6’N$FD’&P’P$F'"
      ]
     },
     "execution_count": 8,
     "metadata": {},
     "output_type": "execute_result"
    }
   ],
   "source": [
    "encrypted = scrambleChain(string, ascii_dict, ascii_inv_dict, T)\n",
    "encrypted"
   ]
  },
  {
   "cell_type": "code",
   "execution_count": 9,
   "metadata": {},
   "outputs": [
    {
     "data": {
      "text/plain": [
       "'MY NAME IS SAM'"
      ]
     },
     "execution_count": 9,
     "metadata": {},
     "output_type": "execute_result"
    }
   ],
   "source": [
    "decrypted = unscrambleChain(encrypted, ascii_dict, ascii_inv_dict, T)\n",
    "decrypted"
   ]
  }
 ],
 "metadata": {
  "interpreter": {
   "hash": "c480fffb9c9bf00f8510876836fde2a7118e35deb653bd9fea6360aa9feb4f8a"
  },
  "kernelspec": {
   "display_name": "Python 3.8.3 64-bit ('base': conda)",
   "name": "python3"
  },
  "language_info": {
   "codemirror_mode": {
    "name": "ipython",
    "version": 3
   },
   "file_extension": ".py",
   "mimetype": "text/x-python",
   "name": "python",
   "nbconvert_exporter": "python",
   "pygments_lexer": "ipython3",
   "version": "3.8.3"
  }
 },
 "nbformat": 4,
 "nbformat_minor": 2
}
